{
 "cells": [
  {
   "cell_type": "markdown",
   "id": "7370efe1",
   "metadata": {},
   "source": [
    "# Personal Expense Tracker"
   ]
  },
  {
   "cell_type": "markdown",
   "id": "3fdfbc9c",
   "metadata": {},
   "source": [
    "## What are we tracking?"
   ]
  },
  {
   "cell_type": "markdown",
   "id": "48d1ef77",
   "metadata": {},
   "source": [
    "Create variables"
   ]
  },
  {
   "cell_type": "code",
   "execution_count": 1,
   "id": "011d538a",
   "metadata": {},
   "outputs": [],
   "source": [
    "user = \"Jimmy\"\n",
    "current_month = \"August 2025\"\n",
    "currency = \"$\"\n",
    "budget = 500.00\n",
    "num_days_in_month = 31\n",
    "is_budget_set = True"
   ]
  },
  {
   "cell_type": "code",
   "execution_count": 2,
   "id": "106a13e7",
   "metadata": {},
   "outputs": [
    {
     "name": "stdout",
     "output_type": "stream",
     "text": [
      "Hello Jimmy\n"
     ]
    }
   ],
   "source": [
    "print(\"Hello\", user)"
   ]
  },
  {
   "cell_type": "code",
   "execution_count": 3,
   "id": "5039e26e",
   "metadata": {},
   "outputs": [
    {
     "name": "stdout",
     "output_type": "stream",
     "text": [
      "Budget for August 2025 : 500.0\n"
     ]
    }
   ],
   "source": [
    "print(\"Budget for\", current_month, \":\", budget)"
   ]
  },
  {
   "cell_type": "markdown",
   "id": "1e9f9fb2",
   "metadata": {},
   "source": [
    "A Single Expense"
   ]
  },
  {
   "cell_type": "code",
   "execution_count": 40,
   "id": "ae2fc16d",
   "metadata": {},
   "outputs": [],
   "source": [
    "item = \"Rent\"\n",
    "amount = 200\n",
    "balance = budget - amount\n",
    "category = \"Housing\"\n",
    "is_necessary = True"
   ]
  },
  {
   "cell_type": "code",
   "execution_count": 48,
   "id": "2ae4ed3d",
   "metadata": {},
   "outputs": [
    {
     "name": "stdout",
     "output_type": "stream",
     "text": [
      "=============================================\n",
      "              Expense Tracker\n",
      "=============================================\n",
      "       Owner                 Jimmy\n",
      "       Period                August 2025\n",
      "---------------------------------------------\n",
      "       Currency              $\n",
      "       Starting balance      500.0\n",
      "       Total Expenses        200\n",
      "---------------------------------------------\n",
      "       Closing balance       300.0\n",
      "       No. of Transactions   5\n",
      "=============================================\n",
      "SEE YOU NEXT MONTH!\n"
     ]
    }
   ],
   "source": [
    "print(\"=\" * 45)\n",
    "print(\"              Expense Tracker\")\n",
    "print(\"=\" * 45)\n",
    "print(\"       Owner                \", user)\n",
    "print(\"       Period               \", current_month)\n",
    "print(\"-\" * 45)\n",
    "print(\"       Currency             \", currency)\n",
    "print(\"       Starting balance     \", budget)\n",
    "print(\"       Total Expenses       \", amount)\n",
    "print(\"-\" * 45)\n",
    "print(\"       Closing balance      \", balance)\n",
    "print(\"       No. of Transactions  \", len(items))\n",
    "print(\"=\" * 45)\n",
    "print(\"SEE YOU NEXT MONTH!\")\n"
   ]
  },
  {
   "cell_type": "code",
   "execution_count": null,
   "id": "dd01ce57",
   "metadata": {},
   "outputs": [],
   "source": [
    "items = [\"Rent\", \"Electricity\", \"Clothes\", \"Data Bundle\", \"KFC\" \"Netflix\"]\n",
    "prices = [200.00, 40.00, 50.00, 20.00, 10.00, 15.00 ]\n",
    "categories = [\"Housing\", \"Utility\", \"Basic\", \"Utility\", \"Food\", \"Entertainment\"]\n",
    "necessary = [True, True, True, True, False, False]"
   ]
  },
  {
   "cell_type": "code",
   "execution_count": 46,
   "id": "9b52eb38",
   "metadata": {},
   "outputs": [
    {
     "data": {
      "text/plain": [
       "335.0"
      ]
     },
     "execution_count": 46,
     "metadata": {},
     "output_type": "execute_result"
    }
   ],
   "source": [
    "sum(prices)"
   ]
  },
  {
   "cell_type": "code",
   "execution_count": null,
   "id": "220e35a3",
   "metadata": {},
   "outputs": [],
   "source": []
  }
 ],
 "metadata": {
  "kernelspec": {
   "display_name": "base",
   "language": "python",
   "name": "python3"
  },
  "language_info": {
   "codemirror_mode": {
    "name": "ipython",
    "version": 3
   },
   "file_extension": ".py",
   "mimetype": "text/x-python",
   "name": "python",
   "nbconvert_exporter": "python",
   "pygments_lexer": "ipython3",
   "version": "3.12.7"
  }
 },
 "nbformat": 4,
 "nbformat_minor": 5
}
